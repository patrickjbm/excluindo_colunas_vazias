{
 "cells": [
  {
   "cell_type": "code",
   "execution_count": 1,
   "id": "fb044680",
   "metadata": {},
   "outputs": [],
   "source": [
    "import pandas as pd"
   ]
  },
  {
   "cell_type": "code",
   "execution_count": 2,
   "id": "3744a753",
   "metadata": {},
   "outputs": [],
   "source": [
    "dados = pd.read_csv('arquivo.csv')"
   ]
  },
  {
   "cell_type": "code",
   "execution_count": 3,
   "id": "503afc15",
   "metadata": {},
   "outputs": [],
   "source": [
    "dados_sem_colunas_vazias = dados.dropna(axis=1, how='all')"
   ]
  },
  {
   "cell_type": "code",
   "execution_count": 4,
   "id": "1ddbb0b1",
   "metadata": {},
   "outputs": [],
   "source": [
    "dados_sem_colunas_vazias.to_csv('dados_sem_colunas_vazias.csv', index=False)"
   ]
  },
  {
   "cell_type": "code",
   "execution_count": null,
   "id": "26d70cee",
   "metadata": {},
   "outputs": [],
   "source": []
  }
 ],
 "metadata": {
  "kernelspec": {
   "display_name": "Python 3 (ipykernel)",
   "language": "python",
   "name": "python3"
  },
  "language_info": {
   "codemirror_mode": {
    "name": "ipython",
    "version": 3
   },
   "file_extension": ".py",
   "mimetype": "text/x-python",
   "name": "python",
   "nbconvert_exporter": "python",
   "pygments_lexer": "ipython3",
   "version": "3.9.13"
  }
 },
 "nbformat": 4,
 "nbformat_minor": 5
}
